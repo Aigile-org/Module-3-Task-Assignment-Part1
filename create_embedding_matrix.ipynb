{
 "cells": [
  {
   "cell_type": "code",
   "execution_count": 1,
   "id": "393af391",
   "metadata": {},
   "outputs": [],
   "source": [
    "import os\n",
    "import numpy as np\n",
    "import json\n",
    "import pandas as pd\n",
    "from parameters import trainable_data_folder, embeddings_folder "
   ]
  },
  {
   "cell_type": "code",
   "execution_count": 2,
   "id": "d491c4e4",
   "metadata": {},
   "outputs": [],
   "source": [
    "# --- Configuration ---\n",
    "EMBEDDING_DIM = 100  # Must match the GloVe file used\n",
    "MAX_NUM_WORDS = 20000 # Vocabulary size for the embedding layer\n",
    "GLOVE_FILE_PATH = os.path.join(r\"C:\\Users\\hp\\Desktop\\Module-3-Task-assigning\\glove\", 'glove.6B.100d.txt')"
   ]
  },
  {
   "cell_type": "code",
   "execution_count": 6,
   "id": "1caa67df",
   "metadata": {},
   "outputs": [],
   "source": [
    "def load_glove_embeddings(glove_path):\n",
    "    print(f\"Loading GloVe embeddings from: {glove_path}\")\n",
    "    embeddings_index = {}\n",
    "    try:\n",
    "        with open(glove_path, 'r', encoding='utf-8') as f:\n",
    "            for line in f:\n",
    "                values = line.split()\n",
    "                word = values[0]\n",
    "                coefs = np.asarray(values[1:], dtype='float32')\n",
    "                embeddings_index[word] = coefs\n",
    "    except FileNotFoundError:\n",
    "        print(f\"[ERROR] GloVe file not found at '{glove_path}'. Please ensure the file exists.\")\n",
    "        return None\n",
    "    print(f\"Found {len(embeddings_index)} word vectors.\")\n",
    "    return embeddings_index"
   ]
  },
  {
   "cell_type": "code",
   "execution_count": 7,
   "id": "548d6a00",
   "metadata": {},
   "outputs": [
    {
     "name": "stdout",
     "output_type": "stream",
     "text": [
      "Loading GloVe embeddings from: C:\\Users\\hp\\Desktop\\Module-3-Task-assigning\\glove\\glove.6B.100d.txt\n",
      "Found 400000 word vectors.\n"
     ]
    }
   ],
   "source": [
    "embeddings_index = load_glove_embeddings(GLOVE_FILE_PATH)"
   ]
  },
  {
   "cell_type": "code",
   "execution_count": 10,
   "id": "87d4628a",
   "metadata": {},
   "outputs": [
    {
     "name": "stdout",
     "output_type": "stream",
     "text": [
      "Starting embedding matrix creation...\n",
      "Processing: 4_NN_AMBARI_5_assignees_features\n",
      "  Creating embedding matrix...\n",
      "  Successfully saved embedding matrix to: C:\\Users\\hp\\Desktop\\Module-3-Task-assigning\\data\\embeddings\\4_NN_AMBARI_5_assignees_features\\embedding_matrix.npy\n",
      "Processing: 4_NN_ARROW_5_assignees_features\n",
      "  Creating embedding matrix...\n",
      "  Successfully saved embedding matrix to: C:\\Users\\hp\\Desktop\\Module-3-Task-assigning\\data\\embeddings\\4_NN_ARROW_5_assignees_features\\embedding_matrix.npy\n",
      "Processing: 4_NN_CASSANDRA_5_assignees_features\n",
      "  Creating embedding matrix...\n",
      "  Successfully saved embedding matrix to: C:\\Users\\hp\\Desktop\\Module-3-Task-assigning\\data\\embeddings\\4_NN_CASSANDRA_5_assignees_features\\embedding_matrix.npy\n",
      "Processing: 4_NN_CB_5_assignees_features\n",
      "  Creating embedding matrix...\n",
      "  Successfully saved embedding matrix to: C:\\Users\\hp\\Desktop\\Module-3-Task-assigning\\data\\embeddings\\4_NN_CB_5_assignees_features\\embedding_matrix.npy\n",
      "Processing: 4_NN_DATALAB_5_assignees_features\n",
      "  Creating embedding matrix...\n",
      "  Successfully saved embedding matrix to: C:\\Users\\hp\\Desktop\\Module-3-Task-assigning\\data\\embeddings\\4_NN_DATALAB_5_assignees_features\\embedding_matrix.npy\n",
      "Processing: 4_NN_FLINK_10_assignees_features\n",
      "  Creating embedding matrix...\n",
      "  Successfully saved embedding matrix to: C:\\Users\\hp\\Desktop\\Module-3-Task-assigning\\data\\embeddings\\4_NN_FLINK_10_assignees_features\\embedding_matrix.npy\n",
      "Processing: 4_NN_FLINK_15_assignees_features\n",
      "  Creating embedding matrix...\n",
      "  Successfully saved embedding matrix to: C:\\Users\\hp\\Desktop\\Module-3-Task-assigning\\data\\embeddings\\4_NN_FLINK_15_assignees_features\\embedding_matrix.npy\n",
      "Processing: 4_NN_FLINK_20_assignees_features\n",
      "  Creating embedding matrix...\n",
      "  Successfully saved embedding matrix to: C:\\Users\\hp\\Desktop\\Module-3-Task-assigning\\data\\embeddings\\4_NN_FLINK_20_assignees_features\\embedding_matrix.npy\n",
      "Processing: 4_NN_FLINK_5_assignees_features\n",
      "  Creating embedding matrix...\n",
      "  Successfully saved embedding matrix to: C:\\Users\\hp\\Desktop\\Module-3-Task-assigning\\data\\embeddings\\4_NN_FLINK_5_assignees_features\\embedding_matrix.npy\n",
      "Processing: 4_NN_GEODE_5_assignees_features\n",
      "  Creating embedding matrix...\n",
      "  Successfully saved embedding matrix to: C:\\Users\\hp\\Desktop\\Module-3-Task-assigning\\data\\embeddings\\4_NN_GEODE_5_assignees_features\\embedding_matrix.npy\n",
      "Processing: 4_NN_HDDS_5_assignees_features\n",
      "  Creating embedding matrix...\n",
      "  Successfully saved embedding matrix to: C:\\Users\\hp\\Desktop\\Module-3-Task-assigning\\data\\embeddings\\4_NN_HDDS_5_assignees_features\\embedding_matrix.npy\n",
      "Processing: 4_NN_HIVE_5_assignees_features\n",
      "  Creating embedding matrix...\n",
      "  Successfully saved embedding matrix to: C:\\Users\\hp\\Desktop\\Module-3-Task-assigning\\data\\embeddings\\4_NN_HIVE_5_assignees_features\\embedding_matrix.npy\n",
      "Processing: 4_NN_HUDI_5_assignees_features\n",
      "  Creating embedding matrix...\n",
      "  Successfully saved embedding matrix to: C:\\Users\\hp\\Desktop\\Module-3-Task-assigning\\data\\embeddings\\4_NN_HUDI_5_assignees_features\\embedding_matrix.npy\n",
      "Processing: 4_NN_IGNITE_5_assignees_features\n",
      "  Creating embedding matrix...\n",
      "  Successfully saved embedding matrix to: C:\\Users\\hp\\Desktop\\Module-3-Task-assigning\\data\\embeddings\\4_NN_IGNITE_5_assignees_features\\embedding_matrix.npy\n",
      "Processing: 4_NN_IMPALA_5_assignees_features\n",
      "  Creating embedding matrix...\n",
      "  Successfully saved embedding matrix to: C:\\Users\\hp\\Desktop\\Module-3-Task-assigning\\data\\embeddings\\4_NN_IMPALA_5_assignees_features\\embedding_matrix.npy\n",
      "Processing: 4_NN_IOTDB_5_assignees_features\n",
      "  Creating embedding matrix...\n",
      "  Successfully saved embedding matrix to: C:\\Users\\hp\\Desktop\\Module-3-Task-assigning\\data\\embeddings\\4_NN_IOTDB_5_assignees_features\\embedding_matrix.npy\n",
      "Processing: 4_NN_MESOS_5_assignees_features\n",
      "  Creating embedding matrix...\n",
      "  Successfully saved embedding matrix to: C:\\Users\\hp\\Desktop\\Module-3-Task-assigning\\data\\embeddings\\4_NN_MESOS_5_assignees_features\\embedding_matrix.npy\n",
      "Processing: 4_NN_OAK_5_assignees_features\n",
      "  Creating embedding matrix...\n",
      "  Successfully saved embedding matrix to: C:\\Users\\hp\\Desktop\\Module-3-Task-assigning\\data\\embeddings\\4_NN_OAK_5_assignees_features\\embedding_matrix.npy\n",
      "Processing: 4_NN_SPARK_5_assignees_features\n",
      "  Creating embedding matrix...\n",
      "  Successfully saved embedding matrix to: C:\\Users\\hp\\Desktop\\Module-3-Task-assigning\\data\\embeddings\\4_NN_SPARK_5_assignees_features\\embedding_matrix.npy\n",
      "--- All embedding matrices have been created. ---\n"
     ]
    }
   ],
   "source": [
    "if embeddings_index:\n",
    "    print(\"Starting embedding matrix creation...\")\n",
    "    \n",
    "    feature_dirs = [d for d in os.listdir(embeddings_folder) if d.startswith(\"4_NN_\")]\n",
    "    \n",
    "    for feature_dir in feature_dirs:\n",
    "        print(f\"Processing: {feature_dir}\")\n",
    "        full_path = os.path.join(embeddings_folder, feature_dir)\n",
    "        \n",
    "        try:\n",
    "            # Load the specific word_index for this dataset\n",
    "            with open(os.path.join(full_path, 'word_index.json'), 'r') as f:\n",
    "                word_index = json.load(f)\n",
    "\n",
    "            # --- Create Embedding Matrix ---\n",
    "            print(\"  Creating embedding matrix...\")\n",
    "            num_words = min(MAX_NUM_WORDS, len(word_index) + 1)\n",
    "            embedding_matrix = np.zeros((num_words, EMBEDDING_DIM))\n",
    "\n",
    "            for word, i in word_index.items():\n",
    "                if i >= MAX_NUM_WORDS:\n",
    "                    continue\n",
    "                embedding_vector = embeddings_index.get(word)\n",
    "                if embedding_vector is not None:\n",
    "                    embedding_matrix[i] = embedding_vector\n",
    "            \n",
    "            # --- Save the Matrix ---\n",
    "            matrix_path = os.path.join(full_path, 'embedding_matrix.npy')\n",
    "            np.save(matrix_path, embedding_matrix)\n",
    "            print(f\"  Successfully saved embedding matrix to: {matrix_path}\")\n",
    "\n",
    "        except FileNotFoundError:\n",
    "            print(f\"  [Warning] 'word_index.json' not found in {feature_dir}. Skipping.\")\n",
    "        except Exception as e:\n",
    "            print(f\"  [ERROR] An unexpected error occurred while processing {feature_dir}: {e}\")\n",
    "\n",
    "print(\"--- All embedding matrices have been created. ---\")"
   ]
  },
  {
   "cell_type": "code",
   "execution_count": null,
   "id": "6a334dc3",
   "metadata": {},
   "outputs": [],
   "source": []
  }
 ],
 "metadata": {
  "kernelspec": {
   "display_name": "base",
   "language": "python",
   "name": "python3"
  },
  "language_info": {
   "codemirror_mode": {
    "name": "ipython",
    "version": 3
   },
   "file_extension": ".py",
   "mimetype": "text/x-python",
   "name": "python",
   "nbconvert_exporter": "python",
   "pygments_lexer": "ipython3",
   "version": "3.11.5"
  }
 },
 "nbformat": 4,
 "nbformat_minor": 5
}
